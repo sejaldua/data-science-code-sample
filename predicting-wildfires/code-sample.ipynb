{
 "cells": [
  {
   "cell_type": "markdown",
   "metadata": {},
   "source": [
    "### <u>Objectives</u>\n",
    "1. Perform basic data exploration prior to building a classifier model.\n",
    "2. Run a logistic regression with scikit-learn. \n",
    "3. Run a linear discriminant analysis with scikit-learn. \n",
    "4. Run a quadratic discriminant analysis with scikit-learn.\n",
    "5. Assess the correctness of a classification model using a variety of metrics.\n",
    "\n",
    "This project uses a data set found in the journal article \"Predictive modeling of wildfires: A new dataset and machine learning approach\" by Sayad, Mousannif, and Al Moatassime. Various methods will be used to determine whether or not an area has experienced a wildfire based on information from satellite imagery."
   ]
  },
  {
   "cell_type": "code",
   "execution_count": 1,
   "metadata": {
    "ExecuteTime": {
     "end_time": "2020-12-02T06:28:15.905391Z",
     "start_time": "2020-12-02T06:28:14.614302Z"
    }
   },
   "outputs": [],
   "source": [
    "import pandas as pd\n",
    "import numpy as np\n",
    "import matplotlib.pyplot as plt"
   ]
  },
  {
   "cell_type": "markdown",
   "metadata": {},
   "source": [
    "### 1. Wildfire Dataset Data Exploration"
   ]
  },
  {
   "cell_type": "code",
   "execution_count": 2,
   "metadata": {
    "ExecuteTime": {
     "end_time": "2020-12-02T06:28:15.976566Z",
     "start_time": "2020-12-02T06:28:15.947929Z"
    }
   },
   "outputs": [
    {
     "data": {
      "text/html": [
       "<div>\n",
       "<style scoped>\n",
       "    .dataframe tbody tr th:only-of-type {\n",
       "        vertical-align: middle;\n",
       "    }\n",
       "\n",
       "    .dataframe tbody tr th {\n",
       "        vertical-align: top;\n",
       "    }\n",
       "\n",
       "    .dataframe thead th {\n",
       "        text-align: right;\n",
       "    }\n",
       "</style>\n",
       "<table border=\"1\" class=\"dataframe\">\n",
       "  <thead>\n",
       "    <tr style=\"text-align: right;\">\n",
       "      <th></th>\n",
       "      <th>NDVI</th>\n",
       "      <th>LST</th>\n",
       "      <th>THERMAL_ANOMALIES</th>\n",
       "      <th>CLASS</th>\n",
       "    </tr>\n",
       "  </thead>\n",
       "  <tbody>\n",
       "    <tr>\n",
       "      <th>0</th>\n",
       "      <td>0.506782</td>\n",
       "      <td>14584.27273</td>\n",
       "      <td>4.692308</td>\n",
       "      <td>no_fire</td>\n",
       "    </tr>\n",
       "    <tr>\n",
       "      <th>1</th>\n",
       "      <td>0.522150</td>\n",
       "      <td>14655.83333</td>\n",
       "      <td>5.000000</td>\n",
       "      <td>no_fire</td>\n",
       "    </tr>\n",
       "    <tr>\n",
       "      <th>2</th>\n",
       "      <td>0.682284</td>\n",
       "      <td>14780.00000</td>\n",
       "      <td>5.000000</td>\n",
       "      <td>fire</td>\n",
       "    </tr>\n",
       "    <tr>\n",
       "      <th>3</th>\n",
       "      <td>0.120046</td>\n",
       "      <td>13298.50000</td>\n",
       "      <td>3.500000</td>\n",
       "      <td>no_fire</td>\n",
       "    </tr>\n",
       "    <tr>\n",
       "      <th>4</th>\n",
       "      <td>0.568734</td>\n",
       "      <td>14743.00000</td>\n",
       "      <td>5.000000</td>\n",
       "      <td>no_fire</td>\n",
       "    </tr>\n",
       "  </tbody>\n",
       "</table>\n",
       "</div>"
      ],
      "text/plain": [
       "       NDVI          LST  THERMAL_ANOMALIES    CLASS\n",
       "0  0.506782  14584.27273           4.692308  no_fire\n",
       "1  0.522150  14655.83333           5.000000  no_fire\n",
       "2  0.682284  14780.00000           5.000000     fire\n",
       "3  0.120046  13298.50000           3.500000  no_fire\n",
       "4  0.568734  14743.00000           5.000000  no_fire"
      ]
     },
     "execution_count": 2,
     "metadata": {},
     "output_type": "execute_result"
    }
   ],
   "source": [
    "df_WildFires = pd.read_csv(\"WildFires_DataSet.csv\")\n",
    "df_WildFires.head()"
   ]
  },
  {
   "cell_type": "markdown",
   "metadata": {},
   "source": [
    "<div class=\"alert alert-block alert-success\">\n",
    "<b>NDVI</b>: Normalized Difference Vegitation Index (NDVI) is the index of a crop's photosynthetic activity \"greenness\" and is considered as the most\n",
    "widely used vegetation index. It is the fraction of the red and nearinfrared reflectance,\n",
    "and it is useful for evaluating the health and density of vegetation. Values near 0 indicate very sparse vegetation and values near 1 indicate dense vegetation.<br><br>\n",
    "<b>LST</b>: Land Surface Temperature (LST) represents the radiative temperature of the ground. It is the combination of vegetation and bare soil temperatures and is used to detect water-stressed crops. Higher temperatures indicate higher stress.<br><br>\n",
    "<b>THERMAL_ANOMALIES</b>: Thermal anomalies (TA) give direct information on fire when it occurs (only when the fire is strong enough to be detected). This parameter is\n",
    "available at 1-km resolution, and composed of fire pixels detected in\n",
    "each grid cell daily and can be extracted from the MODIS product\n",
    "“MOD14A1”. The higher the number, the stronger the indication of fire.<br><br>\n",
    "<b>CLASS</b>: Binary response variable for wildfire prediction: \"fire\" or \"no fire\"\n",
    "</div>\n",
    "\n"
   ]
  },
  {
   "cell_type": "code",
   "execution_count": 3,
   "metadata": {
    "ExecuteTime": {
     "end_time": "2020-12-02T06:28:16.579116Z",
     "start_time": "2020-12-02T06:28:16.572322Z"
    }
   },
   "outputs": [
    {
     "name": "stdout",
     "output_type": "stream",
     "text": [
      "['no_fire' 'fire']\n"
     ]
    }
   ],
   "source": [
    "print(pd.unique(df_WildFires['CLASS']))"
   ]
  },
  {
   "cell_type": "markdown",
   "metadata": {},
   "source": [
    "What is the probability that an observation in the df_WildFires dataset falls within the class \"fire\"? This is often shown as $\\pi_k$ and denotes the prior probability that an observation belongs to the kth class and is most meaningful when the dataset is a random sample of the population. Here the kth class is the \"fire\" class. How does this relate to the trivial null classifier?"
   ]
  },
  {
   "cell_type": "code",
   "execution_count": 4,
   "metadata": {
    "ExecuteTime": {
     "end_time": "2020-12-02T06:28:17.179195Z",
     "start_time": "2020-12-02T06:28:17.172640Z"
    }
   },
   "outputs": [
    {
     "name": "stdout",
     "output_type": "stream",
     "text": [
      "0.22533566841798014\n"
     ]
    }
   ],
   "source": [
    "# πk simply represents the fraction of observations that belong to the \"fire\" class\n",
    "# because the dataset is a random sample of the population\n",
    "\n",
    "print(len(df_WildFires.loc[df_WildFires['CLASS'] == \"fire\"])/len(df_WildFires))"
   ]
  },
  {
   "cell_type": "markdown",
   "metadata": {},
   "source": [
    "<div class=\"alert alert-block alert-success\">\n",
    "The trivial null classifier is a classifier that always predicts \"no fire\". Whatever the prior probability (πk)\n",
    "is for the positive class will also be the error rate of the trivial null classifier. If the prior probability of the \"fire\" class is really small, the error rate of the trivial null classifier will be equivalently low. Here, it looks like the accuracy of an unstandardized trivial null classifier would be around 77.5%.\n",
    "</div>"
   ]
  },
  {
   "cell_type": "code",
   "execution_count": 5,
   "metadata": {
    "ExecuteTime": {
     "end_time": "2020-12-02T06:28:17.818963Z",
     "start_time": "2020-12-02T06:28:17.803378Z"
    }
   },
   "outputs": [
    {
     "data": {
      "text/html": [
       "<div>\n",
       "<style scoped>\n",
       "    .dataframe tbody tr th:only-of-type {\n",
       "        vertical-align: middle;\n",
       "    }\n",
       "\n",
       "    .dataframe tbody tr th {\n",
       "        vertical-align: top;\n",
       "    }\n",
       "\n",
       "    .dataframe thead th {\n",
       "        text-align: right;\n",
       "    }\n",
       "</style>\n",
       "<table border=\"1\" class=\"dataframe\">\n",
       "  <thead>\n",
       "    <tr style=\"text-align: right;\">\n",
       "      <th></th>\n",
       "      <th>NDVI</th>\n",
       "      <th>LST</th>\n",
       "      <th>THERMAL_ANOMALIES</th>\n",
       "    </tr>\n",
       "    <tr>\n",
       "      <th>CLASS</th>\n",
       "      <th></th>\n",
       "      <th></th>\n",
       "      <th></th>\n",
       "    </tr>\n",
       "  </thead>\n",
       "  <tbody>\n",
       "    <tr>\n",
       "      <th>fire</th>\n",
       "      <td>0.533801</td>\n",
       "      <td>14818.157752</td>\n",
       "      <td>4.762614</td>\n",
       "    </tr>\n",
       "    <tr>\n",
       "      <th>no_fire</th>\n",
       "      <td>0.562025</td>\n",
       "      <td>14565.976683</td>\n",
       "      <td>4.649479</td>\n",
       "    </tr>\n",
       "  </tbody>\n",
       "</table>\n",
       "</div>"
      ],
      "text/plain": [
       "             NDVI           LST  THERMAL_ANOMALIES\n",
       "CLASS                                             \n",
       "fire     0.533801  14818.157752           4.762614\n",
       "no_fire  0.562025  14565.976683           4.649479"
      ]
     },
     "execution_count": 5,
     "metadata": {},
     "output_type": "execute_result"
    }
   ],
   "source": [
    "df_WildFires.groupby(\"CLASS\").mean()"
   ]
  },
  {
   "cell_type": "markdown",
   "metadata": {},
   "source": [
    "<div class=\"alert alert-block alert-success\">\n",
    "    These numbers make sense. For the fire categories, we expect to see <b>lower NDVI</b> (implies sparser vegetation),\n",
    "    <b>higher LST</b> (implies higher radiative temperatures, more water-stressed crops), and <b>higher TA</b> (higher strength of indication of fire). These hypotheses hold true for all 3 features.\n",
    "</div>"
   ]
  },
  {
   "cell_type": "markdown",
   "metadata": {},
   "source": [
    "For most models, correlations between predictive variables can be problematic."
   ]
  },
  {
   "cell_type": "code",
   "execution_count": 6,
   "metadata": {
    "ExecuteTime": {
     "end_time": "2020-12-02T06:28:19.910292Z",
     "start_time": "2020-12-02T06:28:18.769180Z"
    }
   },
   "outputs": [
    {
     "data": {
      "image/png": "[encoded data removed]",
      "text/plain": [
       "<Figure size 432x288 with 2 Axes>"
      ]
     },
     "metadata": {},
     "output_type": "display_data"
    }
   ],
   "source": [
    "import seaborn as sns \n",
    "\n",
    "# Isolate the predictive variables (i.e. remove the response variable)\n",
    "X = df_WildFires.drop([\"CLASS\"], axis = 1)\n",
    "\n",
    "# Determine the correlations between the predictive variables\n",
    "corr = X.corr()\n",
    "   \n",
    "# The correlation matrix will have values of one along the diagonal (a predictive variable\n",
    "# correlated to itself). Information above this diagonal is duplicated below the diagonal.\n",
    "# For example the correlation between LST and NDVI is the same as the correlation between\n",
    "# NDVI and LST. Because of this, it is customary to only show half of the correlation matrix\n",
    "# and mask the duplicate information.\n",
    "mask = np.zeros_like(corr)\n",
    "mask[np.triu_indices_from(mask)] = True\n",
    "\n",
    "# Construct a heatmap of the correlation matrix\n",
    "# Note \"annot = True\" shows the correlation coefficient in each cell\n",
    "sns.heatmap(corr, \n",
    "        xticklabels=corr.columns,\n",
    "        yticklabels=corr.columns,\n",
    "        mask = mask, cmap=\"YlGnBu\",\n",
    "        annot=True)\n",
    "plt.show()"
   ]
  },
  {
   "cell_type": "markdown",
   "metadata": {},
   "source": [
    "<div class=\"alert alert-block alert-success\">\n",
    "I do not anticipate the correlations between predictive variables to be problematic.\n",
    "According to the textbook, \"An element of [a correlation] matrix that is large in absolute value indicates a pair of highly correlated variables, and therefore a collinearity problem in the data.\"\n",
    "Here, the largest correlation is between TA and LST, but it is only 0.17 (less than 0.5), so it does not seem large enough to be too problematic.\n",
    "</div>"
   ]
  },
  {
   "cell_type": "markdown",
   "metadata": {},
   "source": [
    "Let's convert the response categories into numerical values. If there is no fire, we will assign the class to be 0. If there is a fire, we will assign the class to be 1."
   ]
  },
  {
   "cell_type": "code",
   "execution_count": 7,
   "metadata": {
    "ExecuteTime": {
     "end_time": "2020-12-02T06:28:20.022573Z",
     "start_time": "2020-12-02T06:28:20.014105Z"
    }
   },
   "outputs": [],
   "source": [
    "# Replace qualitative values with integers representing categories.\n",
    "mapping = {'no_fire': 0, 'fire': 1}\n",
    "df_WildFires = df_WildFires.replace({'CLASS': mapping})\n",
    "\n",
    "# Isolate the response variable, y\n",
    "y = df_WildFires[\"CLASS\"]"
   ]
  },
  {
   "cell_type": "markdown",
   "metadata": {},
   "source": [
    "Standardization of a dataset is a common requirement for many machine learning applications. We can standardize features by setting the mean to zero and scaling to a unit variance for each feature. https://scikit-learn.org/stable/modules/generated/sklearn.preprocessing.StandardScaler.html"
   ]
  },
  {
   "cell_type": "code",
   "execution_count": 8,
   "metadata": {
    "ExecuteTime": {
     "end_time": "2020-12-02T06:28:21.757997Z",
     "start_time": "2020-12-02T06:28:20.822287Z"
    }
   },
   "outputs": [],
   "source": [
    "from sklearn.preprocessing import StandardScaler\n",
    "scaler = StandardScaler()\n",
    "\n",
    "# Isolate the predictive variable (features) in X\n",
    "X = df_WildFires.drop([\"CLASS\"], axis = 1)\n",
    "\n",
    "# Standardize the predictive variable (features)\n",
    "X_std = scaler.fit_transform(X)"
   ]
  },
  {
   "cell_type": "markdown",
   "metadata": {},
   "source": [
    "We are going to divide the dataset into a training set and testing set. This allows us to test how good our model is at classifying data it has not yet seen."
   ]
  },
  {
   "cell_type": "code",
   "execution_count": 9,
   "metadata": {
    "ExecuteTime": {
     "end_time": "2020-12-02T06:28:21.955667Z",
     "start_time": "2020-12-02T06:28:21.846451Z"
    }
   },
   "outputs": [],
   "source": [
    "from sklearn.model_selection import train_test_split\n",
    "\n",
    "X_train, X_test, y_train, y_test = train_test_split(X_std, y, \n",
    "                                                    test_size = 0.2, # 20% of the data is in the test set and 80% of the data is in the training set\n",
    "                                                    random_state = 0)"
   ]
  },
  {
   "cell_type": "markdown",
   "metadata": {},
   "source": [
    "### 2. Logistic Regression "
   ]
  },
  {
   "cell_type": "markdown",
   "metadata": {},
   "source": [
    "We will use scikit-learn to train a logistic regression using the training data set. We will then test it using the testing data set. We will assess the model's performance by printing out both the model accuracy and confusion matrix."
   ]
  },
  {
   "cell_type": "code",
   "execution_count": 10,
   "metadata": {
    "ExecuteTime": {
     "end_time": "2020-12-02T06:28:23.356454Z",
     "start_time": "2020-12-02T06:28:23.096946Z"
    }
   },
   "outputs": [
    {
     "name": "stdout",
     "output_type": "stream",
     "text": [
      "The accuracy of this model is 0.755\n",
      "The confusion matrix is:\n",
      "[[245  11]\n",
      " [ 73  14]]\n"
     ]
    }
   ],
   "source": [
    "from sklearn.linear_model import LogisticRegression\n",
    "from sklearn import metrics\n",
    "\n",
    "# Train a logistic regression model using the training data set\n",
    "logreg = LogisticRegression()\n",
    "logreg.fit(X_train, y_train)\n",
    "\n",
    "# Using the logistic regression model, predict whether or not their is a fire in each test observation\n",
    "y_pred = logreg.predict(X_test)\n",
    "\n",
    "# Print the accuracy and confusion matrix\n",
    "accuracy = metrics.accuracy_score(y_test, y_pred)\n",
    "print('The accuracy of this model is %.3f' %accuracy)\n",
    "cnf_matrix = metrics.confusion_matrix(y_test, y_pred)\n",
    "print('The confusion matrix is:')\n",
    "print(cnf_matrix)"
   ]
  },
  {
   "cell_type": "markdown",
   "metadata": {},
   "source": [
    "Let's interpret the results of this Linear Regression."
   ]
  },
  {
   "cell_type": "code",
   "execution_count": 11,
   "metadata": {
    "ExecuteTime": {
     "end_time": "2020-12-02T06:28:24.296243Z",
     "start_time": "2020-12-02T06:28:24.290252Z"
    }
   },
   "outputs": [],
   "source": [
    "# confusion matrix reference according to sklearn implementation\n",
    "#      0  1\n",
    "# 0 [[TN FP]\n",
    "# 1  [FN TP]]\n",
    "\n",
    "def specificity(cm):\n",
    "    # TN / (FP + TN)\n",
    "    return round(cm[0,0] / (cm[0,1] + cm[0,0]), 3)\n",
    "\n",
    "def sensitivity(cm):\n",
    "    # TP / (TP + FN)\n",
    "    return round(cm[1,1] / (cm[1,1] + cm[1,0]), 3)\n",
    "\n",
    "def precision(cm):\n",
    "    # TP / (TP + FP)\n",
    "    return round(cm[1,1] / (cm[1,1] + cm[0,1]), 3)"
   ]
  },
  {
   "cell_type": "code",
   "execution_count": 12,
   "metadata": {
    "ExecuteTime": {
     "end_time": "2020-12-02T06:28:24.773034Z",
     "start_time": "2020-12-02T06:28:24.764920Z"
    }
   },
   "outputs": [],
   "source": [
    "specificity_lr = specificity(cnf_matrix)\n",
    "sensitivity_lr = sensitivity(cnf_matrix)\n",
    "precision_lr = precision(cnf_matrix)"
   ]
  },
  {
   "cell_type": "code",
   "execution_count": 13,
   "metadata": {
    "ExecuteTime": {
     "end_time": "2020-12-02T06:28:25.202930Z",
     "start_time": "2020-12-02T06:28:25.192084Z"
    }
   },
   "outputs": [
    {
     "name": "stdout",
     "output_type": "stream",
     "text": [
      "LOGISTIC REGRESSION\n",
      "Specificity:\t 0.957\n",
      "Sensitivity:\t 0.161\n",
      "Precision:\t 0.56\n"
     ]
    }
   ],
   "source": [
    "print(\"LOGISTIC REGRESSION\")\n",
    "print(\"Specificity:\\t\", specificity_lr)\n",
    "print(\"Sensitivity:\\t\", sensitivity_lr)\n",
    "print(\"Precision:\\t\", precision_lr)"
   ]
  },
  {
   "cell_type": "code",
   "execution_count": 14,
   "metadata": {
    "ExecuteTime": {
     "end_time": "2020-12-02T06:28:25.626595Z",
     "start_time": "2020-12-02T06:28:25.610871Z"
    }
   },
   "outputs": [
    {
     "name": "stdout",
     "output_type": "stream",
     "text": [
      "The accuracy of the trivial null classifier is 0.746\n",
      "The confusion matrix is:\n",
      "[[256   0]\n",
      " [ 87   0]]\n"
     ]
    }
   ],
   "source": [
    "# the trivial null classifier always predicts 0 (\"no fire\")\n",
    "y_pred = [0 for i in range(len(y_test))]\n",
    "\n",
    "# Print the accuracy and confusion matrix of the trivial null classifier\n",
    "accuracy = metrics.accuracy_score(y_test, y_pred)\n",
    "print('The accuracy of the trivial null classifier is %.3f' %accuracy)\n",
    "cnf_matrix = metrics.confusion_matrix(y_test, y_pred)\n",
    "print('The confusion matrix is:')\n",
    "print(cnf_matrix)"
   ]
  },
  {
   "cell_type": "code",
   "execution_count": 15,
   "metadata": {
    "ExecuteTime": {
     "end_time": "2020-12-02T06:28:26.080855Z",
     "start_time": "2020-12-02T06:28:26.075913Z"
    }
   },
   "outputs": [],
   "source": [
    "specificity_tnc = specificity(cnf_matrix)\n",
    "sensitivity_tnc = sensitivity(cnf_matrix)\n",
    "# precision_tnc = precision(cnf_matrix)"
   ]
  },
  {
   "cell_type": "code",
   "execution_count": 16,
   "metadata": {
    "ExecuteTime": {
     "end_time": "2020-12-02T06:28:26.583400Z",
     "start_time": "2020-12-02T06:28:26.577688Z"
    }
   },
   "outputs": [
    {
     "name": "stdout",
     "output_type": "stream",
     "text": [
      "TRIVIAL NULL CLASSIFIER\n",
      "Specificity:\t 1.0\n",
      "Sensitivity:\t 0.0\n"
     ]
    }
   ],
   "source": [
    "print(\"TRIVIAL NULL CLASSIFIER\")\n",
    "print(\"Specificity:\\t\", specificity_tnc)\n",
    "print(\"Sensitivity:\\t\", sensitivity_tnc)\n",
    "# print(\"Precision:\\t\", precision_tnc)"
   ]
  },
  {
   "cell_type": "markdown",
   "metadata": {},
   "source": [
    "<div class=\"alert alert-block alert-success\">\n",
    "The accuracy of this model is slightly higher than that of the trivial null classifier, but very comparable. The trivial null classifier\n",
    "has zero sensitivity but perfect specificity. Its accuracy is 74.6%, whereas the accuracy of the logistic regression is 75.5% using the standardized data set.\n",
    "</div>"
   ]
  },
  {
   "cell_type": "markdown",
   "metadata": {},
   "source": [
    "There are more observations without fire than observations with fire. This represents an imbalance in the classes. Fortunately, LogisticRegression has a built-in option to address this imbalance: class_weight = 'balanced'. https://scikit-learn.org/stable/modules/generated/sklearn.linear_model.LogisticRegression.html"
   ]
  },
  {
   "cell_type": "code",
   "execution_count": 17,
   "metadata": {
    "ExecuteTime": {
     "end_time": "2020-12-02T06:28:27.940540Z",
     "start_time": "2020-12-02T06:28:27.922746Z"
    }
   },
   "outputs": [
    {
     "name": "stdout",
     "output_type": "stream",
     "text": [
      "The accuracy of this model is 0.673\n",
      "The confusion matrix is:\n",
      "[[174  82]\n",
      " [ 30  57]]\n"
     ]
    }
   ],
   "source": [
    "from sklearn.linear_model import LogisticRegression\n",
    "from sklearn import metrics\n",
    "\n",
    "# Train a logistic regression model using the training data set\n",
    "logreg_balanced = LogisticRegression(class_weight = 'balanced')\n",
    "logreg_balanced.fit(X_train, y_train)\n",
    "\n",
    "# Using the logistic regression model, predict whether or not their is a fire in each test observation\n",
    "y_pred = logreg_balanced.predict(X_test)\n",
    "\n",
    "# Print the confusion matrix\n",
    "accuracy = metrics.accuracy_score(y_test, y_pred)\n",
    "print('The accuracy of this model is %.3f' %accuracy)\n",
    "cnf_matrix = metrics.confusion_matrix(y_test, y_pred)\n",
    "print('The confusion matrix is:')\n",
    "print(cnf_matrix)"
   ]
  },
  {
   "cell_type": "markdown",
   "metadata": {},
   "source": [
    "Let's interpret the results of this balanced class logistic regression."
   ]
  },
  {
   "cell_type": "code",
   "execution_count": 18,
   "metadata": {
    "ExecuteTime": {
     "end_time": "2020-12-02T06:28:29.059165Z",
     "start_time": "2020-12-02T06:28:29.053404Z"
    }
   },
   "outputs": [],
   "source": [
    "specificity_lr_bal = specificity(cnf_matrix)\n",
    "sensitivity_lr_bal = sensitivity(cnf_matrix)\n",
    "precision_lr_bal = precision(cnf_matrix)"
   ]
  },
  {
   "cell_type": "code",
   "execution_count": 19,
   "metadata": {
    "ExecuteTime": {
     "end_time": "2020-12-02T06:28:29.510838Z",
     "start_time": "2020-12-02T06:28:29.498569Z"
    }
   },
   "outputs": [
    {
     "name": "stdout",
     "output_type": "stream",
     "text": [
      "Specificity:\t 0.68\n",
      "Sensitivity:\t 0.655\n",
      "Precision:\t 0.41\n"
     ]
    }
   ],
   "source": [
    "print(\"Specificity:\\t\", specificity_lr_bal)\n",
    "print(\"Sensitivity:\\t\", sensitivity_lr_bal)\n",
    "print(\"Precision:\\t\", precision_lr_bal)"
   ]
  },
  {
   "cell_type": "markdown",
   "metadata": {},
   "source": [
    "<div class=\"alert alert-block alert-success\">\n",
    "The balanced class logistic regression model has an accuracy of 67.3%, which is lower than the unbalanced logistic regression accuracy of 75.5%. Balancing the weights of the classes is important in many cases. While it may decrease accuracy, it typically improves the precision or recall depending on which class is underrepresented. It accomplishes this by adjusting the weights of the classes and essentially penalizing for the\n",
    "the misclassification of the minority class more. This ensures that the model will be careful enough to learn how to classify that class and not neglect it or dismiss it due to its low population / frequency in the dataset.\n",
    "An example of a case in which balancing the weights of the classes is particularly important is in the field of facial recognition where models are prone to algorithmic bias due to lack of representation of certain demographics.\n",
    "</div>"
   ]
  },
  {
   "cell_type": "markdown",
   "metadata": {},
   "source": [
    "ROC curves are useful to visualize the trade-offs between the true positive rates and false positive rates (at different thresholds), as well as compare different models."
   ]
  },
  {
   "cell_type": "code",
   "execution_count": 20,
   "metadata": {
    "ExecuteTime": {
     "end_time": "2020-12-02T06:28:31.740434Z",
     "start_time": "2020-12-02T06:28:31.471518Z"
    }
   },
   "outputs": [
    {
     "data": {
      "image/png": "[encoded data removed]",
      "text/plain": [
       "<Figure size 432x288 with 1 Axes>"
      ]
     },
     "metadata": {},
     "output_type": "display_data"
    }
   ],
   "source": [
    "# Original Logistic Regression Model\n",
    "probs = logreg.predict_proba(X_test)\n",
    "preds = probs[:,1]\n",
    "fpr, tpr, threshold = metrics.roc_curve(y_test, preds)\n",
    "roc_auc = metrics.auc(fpr, tpr)\n",
    "fpr_50 = 1 - specificity_lr\n",
    "tpr_50 = sensitivity_lr\n",
    "\n",
    "# Balanced Logistic Regression Model\n",
    "probs_balanced = logreg_balanced.predict_proba(X_test)\n",
    "preds_balanced = probs_balanced[:,1]\n",
    "fpr_balanced, tpr_balanced, threshold = metrics.roc_curve(y_test, preds_balanced)\n",
    "roc_auc_balanced = metrics.auc(fpr_balanced, tpr_balanced)\n",
    "fpr_50_balanced = 1 - specificity_lr_bal\n",
    "tpr_50_balanced = sensitivity_lr_bal\n",
    "\n",
    "# Create ROC curve plot\n",
    "plt.title('Receiver Operating Characteristic')\n",
    "plt.plot(fpr, tpr, 'b', label = 'Original: AUC = %0.2f' % roc_auc)\n",
    "plt.scatter(fpr_50, tpr_50, s=100, marker='o', c='b', label = 'Original with 0.5 threshold')\n",
    "plt.plot(fpr_balanced, tpr_balanced, 'black', label = 'Balanced Class Weights: AUC = %0.2f' % roc_auc_balanced)\n",
    "plt.scatter(fpr_50_balanced, tpr_50_balanced, s=100, marker='o', c='black', label = 'Balanced Class Weights with 0.5 threshold')\n",
    "\n",
    "plt.legend(loc = 'lower right')\n",
    "plt.plot([0, 1], [0, 1],'r--')\n",
    "plt.xlim([0, 1])\n",
    "plt.ylim([0, 1])\n",
    "plt.ylabel('True Positive Rate')\n",
    "plt.xlabel('False Positive Rate')\n",
    "plt.show()"
   ]
  },
  {
   "cell_type": "markdown",
   "metadata": {},
   "source": [
    "<div class=\"alert alert-block alert-success\">\n",
    "(a) ROC curves trace out two types of error as we vary the threshold value for the posterior probability of fire. \n",
    "In other words, the true positive rate (sensitivity) is being plotted against the false positive rate (1 - specificity) at various thresholds for chance of fire. \n",
    "The curves are similar for both the original and balanced class weights because the ratio of true positive rate to false positive rate at various thresholds does not depend on the weights of the classes. As long as the same dataset is being used, the ratio of these two types of errors for the same type of classifier (logistic regression) will be consistent\n",
    "at all thresholds, but the thresholds will be more evenly distributed through the curve for the logistic regression model with balanced class weights. <br>\n",
    "(b) The dotted line represents the “no information” classifier or \"dummy\" classifier; this is what we would expect if the predictor variables were not associated with probability of fire. It represents a model that is no better than random guessing.\n",
    "</div>"
   ]
  },
  {
   "cell_type": "markdown",
   "metadata": {},
   "source": [
    "### 3. Linear Discriminant Analysis (LDA)"
   ]
  },
  {
   "cell_type": "markdown",
   "metadata": {},
   "source": [
    "We will use scikit-learn to train a linear discriminant using the training data set. We will then test it using the testing data set. We will assess the model's performance by printing out both the model's accuracy and confusion matrix."
   ]
  },
  {
   "cell_type": "code",
   "execution_count": 21,
   "metadata": {
    "ExecuteTime": {
     "end_time": "2020-12-02T06:28:34.341247Z",
     "start_time": "2020-12-02T06:28:34.303343Z"
    }
   },
   "outputs": [
    {
     "name": "stdout",
     "output_type": "stream",
     "text": [
      "The accuracy of this model is 0.758\n",
      "The confusion matrix is:\n",
      "[[247   9]\n",
      " [ 74  13]]\n"
     ]
    }
   ],
   "source": [
    "from sklearn.discriminant_analysis import LinearDiscriminantAnalysis\n",
    "\n",
    "# Train an LDA model using the training data set\n",
    "lda = LinearDiscriminantAnalysis(store_covariance =  True)\n",
    "lda.fit(X_train, y_train)\n",
    "\n",
    "# Use the LDA model to predict whether or not there is a fire in each test observation\n",
    "y_pred = lda.predict(X_test)\n",
    "\n",
    "# Print the accuracy and confusion matrix\n",
    "accuracy = metrics.accuracy_score(y_test, y_pred)\n",
    "print('The accuracy of this model is %.3f' %accuracy)\n",
    "cnf_matrix = metrics.confusion_matrix(y_test, y_pred)\n",
    "print('The confusion matrix is:')\n",
    "print(cnf_matrix)"
   ]
  },
  {
   "cell_type": "markdown",
   "metadata": {},
   "source": [
    "Let's interpret the results of this LDA."
   ]
  },
  {
   "cell_type": "code",
   "execution_count": 22,
   "metadata": {
    "ExecuteTime": {
     "end_time": "2020-12-02T06:28:35.395911Z",
     "start_time": "2020-12-02T06:28:35.390704Z"
    }
   },
   "outputs": [],
   "source": [
    "specificity_lda = specificity(cnf_matrix)\n",
    "sensitivity_lda = sensitivity(cnf_matrix)\n",
    "precision_lda = precision(cnf_matrix)"
   ]
  },
  {
   "cell_type": "code",
   "execution_count": 23,
   "metadata": {
    "ExecuteTime": {
     "end_time": "2020-12-02T06:28:36.046102Z",
     "start_time": "2020-12-02T06:28:36.035811Z"
    }
   },
   "outputs": [
    {
     "name": "stdout",
     "output_type": "stream",
     "text": [
      "Specificity:\t 0.965\n",
      "Sensitivity:\t 0.149\n",
      "Precision:\t 0.591\n"
     ]
    }
   ],
   "source": [
    "print(\"Specificity:\\t\", specificity_lda)\n",
    "print(\"Sensitivity:\\t\", sensitivity_lda)\n",
    "print(\"Precision:\\t\", precision_lda)"
   ]
  },
  {
   "cell_type": "markdown",
   "metadata": {},
   "source": [
    "<div class=\"alert alert-block alert-success\">\n",
    "The accuracy of the logistic regression (75.5%) is quite comparable to that of the LDA model (75.8%), with the LDA model being marginally more accurate. Even when comparing the confusion matrices, there are only a few samples for which the two models predicted different classes.\n",
    "</div>"
   ]
  },
  {
   "cell_type": "markdown",
   "metadata": {},
   "source": [
    "There are 3 predictive variables. It can be difficult to visualize in 3 dimensions. The following cells allow us to see the test data in 2D space. Blue markers indicates that there is no fire. Red markers indicate that there is fire. Circle markers indicate that the prediction was correct. X markers indicate that the prediction was incorrect. The means for each class is shown by a star."
   ]
  },
  {
   "cell_type": "code",
   "execution_count": 24,
   "metadata": {
    "ExecuteTime": {
     "end_time": "2020-12-02T06:28:37.786085Z",
     "start_time": "2020-12-02T06:28:37.772712Z"
    }
   },
   "outputs": [],
   "source": [
    "def LDA_2D_plot(x_axis_col, y_axis_col):\n",
    "    \n",
    "    tp = (y_test == y_pred)  # True Positive\n",
    "    tp0, tp1 = tp[y_test == 0], tp[y_test == 1]\n",
    "    X0, X1 = X_test[y_test == 0], X_test[y_test == 1]\n",
    "    X0_tp, X0_fp = X0[tp0], X0[~tp0]\n",
    "    X1_tp, X1_fp = X1[tp1], X1[~tp1]\n",
    "\n",
    "    # class 0: dots\n",
    "    plt.scatter(X0_tp[:, x_axis_col], X0_tp[:, y_axis_col], marker='.', color='blue')\n",
    "    plt.scatter(X0_fp[:, x_axis_col], X0_fp[:, y_axis_col], marker='x',\n",
    "                s=20, color='#000099')  # dark blue\n",
    "    # class 1: dots\n",
    "    plt.scatter(X1_tp[:, x_axis_col], X1_tp[:, y_axis_col], marker='.', color='red')\n",
    "    plt.scatter(X1_fp[:, x_axis_col], X1_fp[:, y_axis_col], marker='x',\n",
    "            s=20, color='#990000')  # dark red\n",
    "\n",
    "    # means\n",
    "    plt.plot(lda.means_[0][x_axis_col], lda.means_[0][y_axis_col],\n",
    "        '*', color='yellow', markersize=15, markeredgecolor='blue')\n",
    "    plt.plot(lda.means_[1][x_axis_col], lda.means_[1][y_axis_col],\n",
    "        '*', color='yellow', markersize=15, markeredgecolor='red')\n",
    "\n",
    "    # axis labels\n",
    "    plt.xlabel(X.columns[x_axis_col])\n",
    "    plt.ylabel(X.columns[y_axis_col])"
   ]
  },
  {
   "cell_type": "code",
   "execution_count": 25,
   "metadata": {
    "ExecuteTime": {
     "end_time": "2020-12-02T06:28:38.622450Z",
     "start_time": "2020-12-02T06:28:38.287463Z"
    }
   },
   "outputs": [
    {
     "data": {
      "image/png": "[encoded data removed]",
      "text/plain": [
       "<Figure size 432x288 with 1 Axes>"
      ]
     },
     "metadata": {},
     "output_type": "display_data"
    }
   ],
   "source": [
    "LDA_2D_plot(0, 1)"
   ]
  },
  {
   "cell_type": "code",
   "execution_count": 26,
   "metadata": {
    "ExecuteTime": {
     "end_time": "2020-12-02T06:28:39.456426Z",
     "start_time": "2020-12-02T06:28:38.962184Z"
    }
   },
   "outputs": [
    {
     "data": {
      "image/png": "[encoded data removed]",
      "text/plain": [
       "<Figure size 432x288 with 1 Axes>"
      ]
     },
     "metadata": {},
     "output_type": "display_data"
    }
   ],
   "source": [
    "LDA_2D_plot(1, 2)"
   ]
  },
  {
   "cell_type": "code",
   "execution_count": 27,
   "metadata": {
    "ExecuteTime": {
     "end_time": "2020-12-02T06:28:40.587553Z",
     "start_time": "2020-12-02T06:28:39.944137Z"
    }
   },
   "outputs": [
    {
     "data": {
      "image/png": "[encoded data removed]",
      "text/plain": [
       "<Figure size 432x288 with 1 Axes>"
      ]
     },
     "metadata": {},
     "output_type": "display_data"
    }
   ],
   "source": [
    "LDA_2D_plot(0, 2)"
   ]
  },
  {
   "cell_type": "markdown",
   "metadata": {},
   "source": [
    "### Principal Component Analysis (PCA)"
   ]
  },
  {
   "cell_type": "markdown",
   "metadata": {},
   "source": [
    "<div class=\"alert alert-block alert-success\">\n",
    "Theoretical backing: Principal Component Analysis (PCA) finds a set of new variables that the original variables \n",
    "    are just their linear combinations. The new variables are called Principal Components \n",
    "    (PCs). PCA can be used reduce the dimensionality of a dataset consisting of a large number of related variables (in our case, only 3) while retaining as much variance in the data as possible.\n",
    "    </div>"
   ]
  },
  {
   "cell_type": "code",
   "execution_count": 28,
   "metadata": {
    "ExecuteTime": {
     "end_time": "2020-12-02T06:28:41.514121Z",
     "start_time": "2020-12-02T06:28:41.487053Z"
    }
   },
   "outputs": [
    {
     "name": "stdout",
     "output_type": "stream",
     "text": [
      "Explained variance: [0.39081512 0.34495313 0.26423175]\n"
     ]
    }
   ],
   "source": [
    "from sklearn.decomposition import PCA\n",
    "pca = PCA()\n",
    "principalComponents = pca.fit_transform(X_std)\n",
    "principalDf = pd.DataFrame(data = principalComponents\n",
    "             , columns = ['PC1', 'PC2', 'PC3'])\n",
    "explained_variance = pca.explained_variance_ratio_\n",
    "print(\"Explained variance:\", explained_variance)"
   ]
  },
  {
   "cell_type": "markdown",
   "metadata": {},
   "source": [
    "<div class=\"alert alert-block alert-success\">\n",
    "The first and second principal components account for 39% and 34% of the variance, respectively.\n",
    "We often want to keep only the significant features and drop the insignificant ones. \n",
    "A rule of thumb is to keep the top principal components that capture significant variance and ignore the small ones. Therefore, we will focus on the first two principal components for the purposes of dimensionality reduction.\n",
    "</div>"
   ]
  },
  {
   "cell_type": "code",
   "execution_count": 29,
   "metadata": {
    "ExecuteTime": {
     "end_time": "2020-12-02T06:28:43.942082Z",
     "start_time": "2020-12-02T06:28:43.925269Z"
    }
   },
   "outputs": [
    {
     "data": {
      "text/html": [
       "<div>\n",
       "<style scoped>\n",
       "    .dataframe tbody tr th:only-of-type {\n",
       "        vertical-align: middle;\n",
       "    }\n",
       "\n",
       "    .dataframe tbody tr th {\n",
       "        vertical-align: top;\n",
       "    }\n",
       "\n",
       "    .dataframe thead th {\n",
       "        text-align: right;\n",
       "    }\n",
       "</style>\n",
       "<table border=\"1\" class=\"dataframe\">\n",
       "  <thead>\n",
       "    <tr style=\"text-align: right;\">\n",
       "      <th></th>\n",
       "      <th>PC1</th>\n",
       "      <th>PC2</th>\n",
       "      <th>PC3</th>\n",
       "      <th>CLASS</th>\n",
       "    </tr>\n",
       "  </thead>\n",
       "  <tbody>\n",
       "    <tr>\n",
       "      <th>0</th>\n",
       "      <td>-0.164716</td>\n",
       "      <td>0.496015</td>\n",
       "      <td>-0.126917</td>\n",
       "      <td>0</td>\n",
       "    </tr>\n",
       "    <tr>\n",
       "      <th>1</th>\n",
       "      <td>0.355247</td>\n",
       "      <td>0.550875</td>\n",
       "      <td>0.137757</td>\n",
       "      <td>0</td>\n",
       "    </tr>\n",
       "    <tr>\n",
       "      <th>2</th>\n",
       "      <td>0.954190</td>\n",
       "      <td>-1.030854</td>\n",
       "      <td>0.617664</td>\n",
       "      <td>1</td>\n",
       "    </tr>\n",
       "    <tr>\n",
       "      <th>3</th>\n",
       "      <td>-4.906019</td>\n",
       "      <td>3.803911</td>\n",
       "      <td>-0.757437</td>\n",
       "      <td>0</td>\n",
       "    </tr>\n",
       "    <tr>\n",
       "      <th>4</th>\n",
       "      <td>0.631110</td>\n",
       "      <td>0.071215</td>\n",
       "      <td>0.184330</td>\n",
       "      <td>0</td>\n",
       "    </tr>\n",
       "  </tbody>\n",
       "</table>\n",
       "</div>"
      ],
      "text/plain": [
       "        PC1       PC2       PC3  CLASS\n",
       "0 -0.164716  0.496015 -0.126917      0\n",
       "1  0.355247  0.550875  0.137757      0\n",
       "2  0.954190 -1.030854  0.617664      1\n",
       "3 -4.906019  3.803911 -0.757437      0\n",
       "4  0.631110  0.071215  0.184330      0"
      ]
     },
     "execution_count": 29,
     "metadata": {},
     "output_type": "execute_result"
    }
   ],
   "source": [
    "pca_df = pd.concat([principalDf, df_WildFires[['CLASS']]], axis = 1)\n",
    "pca_df.head()"
   ]
  },
  {
   "cell_type": "code",
   "execution_count": 30,
   "metadata": {
    "ExecuteTime": {
     "end_time": "2020-12-02T06:28:44.980132Z",
     "start_time": "2020-12-02T06:28:44.594530Z"
    }
   },
   "outputs": [
    {
     "data": {
      "image/png": "[encoded data removed]",
      "text/plain": [
       "<Figure size 576x576 with 1 Axes>"
      ]
     },
     "metadata": {},
     "output_type": "display_data"
    }
   ],
   "source": [
    "fig = plt.figure(figsize = (8,8))\n",
    "ax = fig.add_subplot(1,1,1) \n",
    "ax.set_xlabel('Principal Component 1', fontsize = 15)\n",
    "ax.set_ylabel('Principal Component 2', fontsize = 15)\n",
    "ax.set_title('2 component PCA', fontsize = 20)\n",
    "targets = [0, 1]\n",
    "labels = ['no fire', 'fire']\n",
    "colors = ['b', 'r']\n",
    "for target, color in zip(targets,colors):\n",
    "    ax.scatter(pca_df.loc[pca_df['CLASS'] == target, 'PC1'],\n",
    "               pca_df.loc[pca_df['CLASS'] == target, 'PC2'],\n",
    "               c = color, s = 50)\n",
    "ax.legend(labels)\n",
    "ax.grid()"
   ]
  },
  {
   "cell_type": "markdown",
   "metadata": {},
   "source": [
    "Some machine learning packages will not include functionality to balance the class weights when training the model. However, we can still balance the classes. One method for doing so is called SMOTE (Synthetic Minority Over-sampling). This is available within the imbalanced-learn package in python. https://imbalanced-learn.readthedocs.io/en/stable/generated/imblearn.over_sampling.SMOTE.html. The cell below demonstrates how SMOTE can be executed on the training dataset to balance the classes."
   ]
  },
  {
   "cell_type": "code",
   "execution_count": 31,
   "metadata": {
    "ExecuteTime": {
     "end_time": "2020-12-02T06:28:53.175669Z",
     "start_time": "2020-12-02T06:28:52.779938Z"
    }
   },
   "outputs": [
    {
     "name": "stdout",
     "output_type": "stream",
     "text": [
      "The accuracy of this model is 0.668\n",
      "The confusion matrix is:\n",
      "[[173  83]\n",
      " [ 31  56]]\n"
     ]
    }
   ],
   "source": [
    "from imblearn.over_sampling import SMOTE\n",
    "\n",
    "# Balance the classes using SMOTE\n",
    "os = SMOTE(random_state = 0)\n",
    "os_data_X,os_data_y = os.fit_sample(X_train, y_train)\n",
    "\n",
    "# Train a logistic regression model using the training data set\n",
    "lda_SMOTE = LinearDiscriminantAnalysis(store_covariance =  True)\n",
    "lda_SMOTE.fit(os_data_X, os_data_y)\n",
    "\n",
    "# Using the logistic regression model, predict whether or not their is a fire in each test observation\n",
    "y_pred = lda_SMOTE.predict(X_test)\n",
    "\n",
    "# Print the accuracy and confusion matrix\n",
    "accuracy = metrics.accuracy_score(y_test, y_pred)\n",
    "print('The accuracy of this model is %.3f' %accuracy)\n",
    "cnf_matrix = metrics.confusion_matrix(y_test, y_pred)\n",
    "print('The confusion matrix is:')\n",
    "print(cnf_matrix)"
   ]
  },
  {
   "cell_type": "markdown",
   "metadata": {},
   "source": [
    "The accuracy and confusion matrix is similar to the logistic regression with balanced class weights."
   ]
  },
  {
   "cell_type": "markdown",
   "metadata": {},
   "source": [
    "An LDA assumes the same covariance matrix for all classes. The covariance matrix for each of the LDA models can be seen below."
   ]
  },
  {
   "cell_type": "code",
   "execution_count": 32,
   "metadata": {
    "ExecuteTime": {
     "end_time": "2020-12-02T06:29:12.079577Z",
     "start_time": "2020-12-02T06:29:12.069857Z"
    }
   },
   "outputs": [
    {
     "data": {
      "text/plain": [
       "array([[ 0.97744345,  0.10444568, -0.02504435],\n",
       "       [ 0.10444568,  0.89988647,  0.13903204],\n",
       "       [-0.02504435,  0.13903204,  0.97133665]])"
      ]
     },
     "execution_count": 32,
     "metadata": {},
     "output_type": "execute_result"
    }
   ],
   "source": [
    "lda.covariance_"
   ]
  },
  {
   "cell_type": "code",
   "execution_count": 33,
   "metadata": {
    "ExecuteTime": {
     "end_time": "2020-12-02T06:29:12.839362Z",
     "start_time": "2020-12-02T06:29:12.830846Z"
    }
   },
   "outputs": [
    {
     "data": {
      "text/plain": [
       "array([[ 0.84600253,  0.02511204, -0.04541701],\n",
       "       [ 0.02511204,  0.7603654 ,  0.12703735],\n",
       "       [-0.04541701,  0.12703735,  0.97466846]])"
      ]
     },
     "execution_count": 33,
     "metadata": {},
     "output_type": "execute_result"
    }
   ],
   "source": [
    "lda_SMOTE.covariance_"
   ]
  },
  {
   "cell_type": "code",
   "execution_count": 34,
   "metadata": {
    "ExecuteTime": {
     "end_time": "2020-12-02T06:29:30.819637Z",
     "start_time": "2020-12-02T06:29:30.815976Z"
    }
   },
   "outputs": [],
   "source": [
    "specificity_lda_bal = specificity(cnf_matrix)\n",
    "sensitivity_lda_bal = sensitivity(cnf_matrix)\n",
    "precision_lda_bal = precision(cnf_matrix)"
   ]
  },
  {
   "cell_type": "code",
   "execution_count": 35,
   "metadata": {
    "ExecuteTime": {
     "end_time": "2020-12-02T06:29:31.388653Z",
     "start_time": "2020-12-02T06:29:31.383224Z"
    }
   },
   "outputs": [
    {
     "name": "stdout",
     "output_type": "stream",
     "text": [
      "Specificity:\t 0.676\n",
      "Sensitivity:\t 0.644\n",
      "Precision:\t 0.403\n"
     ]
    }
   ],
   "source": [
    "print(\"Specificity:\\t\", specificity_lda_bal)\n",
    "print(\"Sensitivity:\\t\", sensitivity_lda_bal)\n",
    "print(\"Precision:\\t\", precision_lda_bal)"
   ]
  },
  {
   "cell_type": "markdown",
   "metadata": {},
   "source": [
    "### 4. Quadratic Discriminant Analysis (QDA)"
   ]
  },
  {
   "cell_type": "markdown",
   "metadata": {},
   "source": [
    "Let's calculate the covariance matrix for all classes. Then let's separate the training data set by class (fire and no_fire) and calculate the covariance matrices for each class separately."
   ]
  },
  {
   "cell_type": "code",
   "execution_count": 36,
   "metadata": {
    "ExecuteTime": {
     "end_time": "2020-12-02T06:30:21.071262Z",
     "start_time": "2020-12-02T06:30:21.060804Z"
    }
   },
   "outputs": [
    {
     "data": {
      "text/plain": [
       "array([[ 0.99492945,  0.06727851, -0.0359617 ],\n",
       "       [ 0.06727851,  0.98324556,  0.16333571],\n",
       "       [-0.0359617 ,  0.16333571,  0.97912876]])"
      ]
     },
     "execution_count": 36,
     "metadata": {},
     "output_type": "execute_result"
    }
   ],
   "source": [
    "# need to transpose the matrix to get the covariance of each feature with every other feature\n",
    "np.cov(X_train.T)"
   ]
  },
  {
   "cell_type": "code",
   "execution_count": 37,
   "metadata": {
    "ExecuteTime": {
     "end_time": "2020-12-02T06:30:31.551220Z",
     "start_time": "2020-12-02T06:30:31.543377Z"
    }
   },
   "outputs": [],
   "source": [
    "# Isolate the predictive variable (features) in X\n",
    "\n",
    "df_neg = df_WildFires.loc[df_WildFires[\"CLASS\"] == 0]\n",
    "df_pos = df_WildFires.loc[df_WildFires[\"CLASS\"] == 1]\n",
    "\n",
    "def get_covariance_matrix(df):\n",
    "    y_obs = df[\"CLASS\"]\n",
    "    X = df.drop([\"CLASS\"], axis = 1)\n",
    "\n",
    "    # Standardize the predictive variable (features)\n",
    "    X_std = scaler.fit_transform(X)\n",
    "\n",
    "    X_train, X_test, y_train, y_test = train_test_split(X_std, y_obs, \n",
    "                                                    test_size = 0.2, # 20% of the data is in the test set and 80% of the data is in the training set\n",
    "                                                    random_state = 0)\n",
    "    \n",
    "    return np.cov(X_train.T)"
   ]
  },
  {
   "cell_type": "code",
   "execution_count": 38,
   "metadata": {
    "ExecuteTime": {
     "end_time": "2020-12-02T06:30:32.652573Z",
     "start_time": "2020-12-02T06:30:32.635164Z"
    }
   },
   "outputs": [
    {
     "data": {
      "text/plain": [
       "array([[ 0.99033544,  0.18845377, -0.01828629],\n",
       "       [ 0.18845377,  0.99593107,  0.13087879],\n",
       "       [-0.01828629,  0.13087879,  1.03184707]])"
      ]
     },
     "execution_count": 38,
     "metadata": {},
     "output_type": "execute_result"
    }
   ],
   "source": [
    "get_covariance_matrix(df_neg)"
   ]
  },
  {
   "cell_type": "code",
   "execution_count": 39,
   "metadata": {
    "ExecuteTime": {
     "end_time": "2020-12-02T06:30:33.803178Z",
     "start_time": "2020-12-02T06:30:33.789968Z"
    }
   },
   "outputs": [
    {
     "data": {
      "text/plain": [
       "array([[ 0.98534453, -0.14367813, -0.1161745 ],\n",
       "       [-0.14367813,  1.01214845,  0.18250253],\n",
       "       [-0.1161745 ,  0.18250253,  1.09871397]])"
      ]
     },
     "execution_count": 39,
     "metadata": {},
     "output_type": "execute_result"
    }
   ],
   "source": [
    "get_covariance_matrix(df_pos)"
   ]
  },
  {
   "cell_type": "markdown",
   "metadata": {},
   "source": [
    "<div class=\"alert alert-block alert-success\">\n",
    "Based on these covariance matrices, we would expect QDA to differ only slightly from LDA. The absolute values of the covariances\n",
    "are similar, but there are subtle differences between the covariance matrix for the positive (\"fire\") class compared to the covariance \n",
    "matrix for the negative (\"no fire\") class. We can expect to see decent performance of QDA \n",
    "because unlike LDA, QDA assumes that each class has its own covariance matrix, which is generally true as we can see above.\n",
    "</div>"
   ]
  },
  {
   "cell_type": "markdown",
   "metadata": {},
   "source": [
    "Let's train and test a QDA model. Then, as usual, we will print out the accuracy of the model and the confusion matrix. Information on QDA capabilities in scikit-learn can be found at https://scikit-learn.org/stable/modules/generated/sklearn.discriminant_analysis.QuadraticDiscriminantAnalysis.html."
   ]
  },
  {
   "cell_type": "code",
   "execution_count": 40,
   "metadata": {
    "ExecuteTime": {
     "end_time": "2020-12-02T06:31:05.844527Z",
     "start_time": "2020-12-02T06:31:05.827793Z"
    }
   },
   "outputs": [
    {
     "name": "stdout",
     "output_type": "stream",
     "text": [
      "The accuracy of this model is 0.758\n",
      "The confusion matrix is:\n",
      "[[246  10]\n",
      " [ 73  14]]\n"
     ]
    }
   ],
   "source": [
    "from sklearn.discriminant_analysis import QuadraticDiscriminantAnalysis\n",
    "\n",
    "# Train an LDA model using the training data set\n",
    "qda = QuadraticDiscriminantAnalysis(store_covariance =  True)\n",
    "qda.fit(X_train, y_train)\n",
    "\n",
    "# Use the LDA model to predict whether or not there is a fire in each test observation\n",
    "y_pred = qda.predict(X_test)\n",
    "\n",
    "# Print the accuracy and confusion matrix\n",
    "accuracy = metrics.accuracy_score(y_test, y_pred)\n",
    "print('The accuracy of this model is %.3f' %accuracy)\n",
    "cnf_matrix = metrics.confusion_matrix(y_test, y_pred)\n",
    "print('The confusion matrix is:')\n",
    "print(cnf_matrix)"
   ]
  },
  {
   "cell_type": "code",
   "execution_count": 41,
   "metadata": {
    "ExecuteTime": {
     "end_time": "2020-12-02T06:31:08.010984Z",
     "start_time": "2020-12-02T06:31:08.001532Z"
    }
   },
   "outputs": [
    {
     "data": {
      "text/plain": [
       "[array([[ 1.05837473,  0.16231101, -0.01169359],\n",
       "        [ 0.16231101,  0.97610536,  0.13516762],\n",
       "        [-0.01169359,  0.13516762,  0.89826144]]),\n",
       " array([[ 0.69341128, -0.10262482, -0.07314975],\n",
       "        [-0.10262482,  0.63225412,  0.15384074],\n",
       "        [-0.07314975,  0.15384074,  1.24023985]])]"
      ]
     },
     "execution_count": 41,
     "metadata": {},
     "output_type": "execute_result"
    }
   ],
   "source": [
    "qda.covariance_"
   ]
  },
  {
   "cell_type": "code",
   "execution_count": 42,
   "metadata": {
    "ExecuteTime": {
     "end_time": "2020-12-02T06:31:08.596767Z",
     "start_time": "2020-12-02T06:31:08.591121Z"
    }
   },
   "outputs": [],
   "source": [
    "specificity_qda = specificity(cnf_matrix)\n",
    "sensitivity_qda = sensitivity(cnf_matrix)\n",
    "precision_qda = precision(cnf_matrix)"
   ]
  },
  {
   "cell_type": "code",
   "execution_count": 43,
   "metadata": {
    "ExecuteTime": {
     "end_time": "2020-12-02T06:31:09.152374Z",
     "start_time": "2020-12-02T06:31:09.144773Z"
    }
   },
   "outputs": [
    {
     "name": "stdout",
     "output_type": "stream",
     "text": [
      "Specificity:\t 0.961\n",
      "Sensitivity:\t 0.161\n",
      "Precision:\t 0.583\n"
     ]
    }
   ],
   "source": [
    "print(\"Specificity:\\t\", specificity_qda)\n",
    "print(\"Sensitivity:\\t\", sensitivity_qda)\n",
    "print(\"Precision:\\t\", precision_qda)"
   ]
  },
  {
   "cell_type": "markdown",
   "metadata": {},
   "source": [
    "Let's again balance the class weights when training the model. One method for doing so is called SMOTE (Synthetic Minority Over-sampling)."
   ]
  },
  {
   "cell_type": "code",
   "execution_count": 44,
   "metadata": {
    "ExecuteTime": {
     "end_time": "2020-12-02T06:31:30.907786Z",
     "start_time": "2020-12-02T06:31:30.892949Z"
    }
   },
   "outputs": [
    {
     "name": "stdout",
     "output_type": "stream",
     "text": [
      "The accuracy of this model is 0.641\n",
      "The confusion matrix is:\n",
      "[[158  98]\n",
      " [ 25  62]]\n"
     ]
    }
   ],
   "source": [
    "# Balance the classes using SMOTE\n",
    "os = SMOTE(random_state = 0)\n",
    "os_data_X,os_data_y = os.fit_sample(X_train, y_train)\n",
    "\n",
    "# Train a logistic regression model using the training data set\n",
    "qda_SMOTE = QuadraticDiscriminantAnalysis(store_covariance =  True)\n",
    "qda_SMOTE.fit(os_data_X, os_data_y)\n",
    "\n",
    "# Using the logistic regression model, predict whether or not their is a fire in each test observation\n",
    "y_pred = qda_SMOTE.predict(X_test)\n",
    "\n",
    "# Print the accuracy and confusion matrix\n",
    "accuracy = metrics.accuracy_score(y_test, y_pred)\n",
    "print('The accuracy of this model is %.3f' %accuracy)\n",
    "cnf_matrix = metrics.confusion_matrix(y_test, y_pred)\n",
    "print('The confusion matrix is:')\n",
    "print(cnf_matrix)"
   ]
  },
  {
   "cell_type": "code",
   "execution_count": 45,
   "metadata": {
    "ExecuteTime": {
     "end_time": "2020-12-02T06:31:32.290780Z",
     "start_time": "2020-12-02T06:31:32.282830Z"
    }
   },
   "outputs": [
    {
     "data": {
      "text/plain": [
       "[array([[ 1.05837473,  0.16231101, -0.01169359],\n",
       "        [ 0.16231101,  0.97610536,  0.13516762],\n",
       "        [-0.01169359,  0.13516762,  0.89826144]]),\n",
       " array([[ 0.63521164, -0.11203999, -0.07922533],\n",
       "        [-0.11203999,  0.54604667,  0.11914453],\n",
       "        [-0.07922533,  0.11914453,  1.0528973 ]])]"
      ]
     },
     "execution_count": 45,
     "metadata": {},
     "output_type": "execute_result"
    }
   ],
   "source": [
    "qda_SMOTE.covariance_"
   ]
  },
  {
   "cell_type": "code",
   "execution_count": 46,
   "metadata": {
    "ExecuteTime": {
     "end_time": "2020-12-02T06:31:32.999248Z",
     "start_time": "2020-12-02T06:31:32.994408Z"
    }
   },
   "outputs": [],
   "source": [
    "specificity_qda_bal = specificity(cnf_matrix)\n",
    "sensitivity_qda_bal = sensitivity(cnf_matrix)\n",
    "precision_qda_bal = precision(cnf_matrix)"
   ]
  },
  {
   "cell_type": "code",
   "execution_count": 47,
   "metadata": {
    "ExecuteTime": {
     "end_time": "2020-12-02T06:31:33.826469Z",
     "start_time": "2020-12-02T06:31:33.817612Z"
    }
   },
   "outputs": [
    {
     "name": "stdout",
     "output_type": "stream",
     "text": [
      "Specificity:\t 0.617\n",
      "Sensitivity:\t 0.713\n",
      "Precision:\t 0.388\n"
     ]
    }
   ],
   "source": [
    "print(\"Specificity:\\t\", specificity_qda_bal)\n",
    "print(\"Sensitivity:\\t\", sensitivity_qda_bal)\n",
    "print(\"Precision:\\t\", precision_qda_bal)"
   ]
  },
  {
   "cell_type": "markdown",
   "metadata": {},
   "source": [
    "### 5. Model Comparison"
   ]
  },
  {
   "cell_type": "markdown",
   "metadata": {},
   "source": [
    "We have now explored Logistic regression, LDA, and QDA models. Let's plot ROC curves for all three models on the same graph and also compute the AUC for each model."
   ]
  },
  {
   "cell_type": "code",
   "execution_count": 48,
   "metadata": {
    "ExecuteTime": {
     "end_time": "2020-12-02T06:32:22.952225Z",
     "start_time": "2020-12-02T06:32:22.944453Z"
    }
   },
   "outputs": [],
   "source": [
    "# Original Logistic Regression Model\n",
    "probs = logreg.predict_proba(X_test)\n",
    "preds = probs[:,1]\n",
    "fpr, tpr, threshold = metrics.roc_curve(y_test, preds)\n",
    "roc_auc = metrics.auc(fpr, tpr)\n",
    "\n",
    "# Balanced Logistic Regression Model\n",
    "probs_balanced = logreg_balanced.predict_proba(X_test)\n",
    "preds_balanced = probs_balanced[:,1]\n",
    "fpr_balanced, tpr_balanced, threshold = metrics.roc_curve(y_test, preds_balanced)\n",
    "roc_auc_balanced = metrics.auc(fpr_balanced, tpr_balanced)\n",
    "\n",
    "# Scikit-learn uses a default threshold value of 0.5\n",
    "\n",
    "# From the confusion matrix, you can plot the operating characteristic for the model\n",
    "# Original Logistic Regression \n",
    "fpr_50 = 1 - specificity_lr\n",
    "tpr_50 = sensitivity_lr\n",
    "# Balanced Logistic Regression Model\n",
    "fpr_50_balanced = 1 - specificity_lr_bal\n",
    "tpr_50_balanced = sensitivity_lr_bal"
   ]
  },
  {
   "cell_type": "code",
   "execution_count": 49,
   "metadata": {
    "ExecuteTime": {
     "end_time": "2020-12-02T06:32:45.681685Z",
     "start_time": "2020-12-02T06:32:45.672951Z"
    }
   },
   "outputs": [],
   "source": [
    "# Original Logistic Regression Model\n",
    "probs = lda.predict_proba(X_test)\n",
    "preds = probs[:,1]\n",
    "lda_fpr, lda_tpr, threshold = metrics.roc_curve(y_test, preds)\n",
    "lda_roc_auc = metrics.auc(lda_fpr, lda_tpr)\n",
    "lda_fpr_50 = 1 - specificity_lda\n",
    "lda_tpr_50 = sensitivity_lda\n",
    "\n",
    "# Balanced Logistic Regression Model\n",
    "probs_balanced = lda_SMOTE.predict_proba(X_test)\n",
    "preds_balanced = probs_balanced[:,1]\n",
    "lda_fpr_balanced, lda_tpr_balanced, threshold = metrics.roc_curve(y_test, preds_balanced)\n",
    "lda_roc_auc_balanced = metrics.auc(lda_fpr_balanced, lda_tpr_balanced)\n",
    "lda_fpr_50_balanced = 1 - specificity_lda_bal\n",
    "lda_tpr_50_balanced = sensitivity_lda_bal"
   ]
  },
  {
   "cell_type": "code",
   "execution_count": 50,
   "metadata": {
    "ExecuteTime": {
     "end_time": "2020-12-02T06:33:00.890593Z",
     "start_time": "2020-12-02T06:33:00.881880Z"
    }
   },
   "outputs": [],
   "source": [
    "# Original Logistic Regression Model\n",
    "probs = qda.predict_proba(X_test)\n",
    "preds = probs[:,1]\n",
    "qda_fpr, qda_tpr, threshold = metrics.roc_curve(y_test, preds)\n",
    "qda_roc_auc = metrics.auc(qda_fpr, qda_tpr)\n",
    "qda_fpr_50 = 1 - specificity_qda\n",
    "qda_tpr_50 = sensitivity_qda\n",
    "\n",
    "# Balanced Logistic Regression Model\n",
    "probs_balanced = qda_SMOTE.predict_proba(X_test)\n",
    "preds_balanced = probs_balanced[:,1]\n",
    "qda_fpr_balanced, qda_tpr_balanced, threshold = metrics.roc_curve(y_test, preds_balanced)\n",
    "qda_roc_auc_balanced = metrics.auc(qda_fpr_balanced, qda_tpr_balanced)\n",
    "qda_fpr_50_balanced = 1 - specificity_qda_bal\n",
    "qda_tpr_50_balanced = sensitivity_qda_bal\n"
   ]
  },
  {
   "cell_type": "code",
   "execution_count": 51,
   "metadata": {
    "ExecuteTime": {
     "end_time": "2020-12-02T06:33:03.659524Z",
     "start_time": "2020-12-02T06:33:03.117575Z"
    }
   },
   "outputs": [
    {
     "data": {
      "image/png": "[encoded data removed]",
      "text/plain": [
       "<Figure size 864x864 with 1 Axes>"
      ]
     },
     "metadata": {},
     "output_type": "display_data"
    }
   ],
   "source": [
    "# Create ROC curve plot\n",
    "fig = plt.figure(figsize=(12, 12))\n",
    "\n",
    "plt.title('Receiver Operating Characteristic')\n",
    "\n",
    "plt.plot(fpr, tpr, 'b', label = 'Original: AUC = %0.2f' % roc_auc)\n",
    "plt.scatter(fpr_50, tpr_50, s=100, marker='o', c='b', label = 'Original with 0.5 threshold')\n",
    "plt.plot(fpr_balanced, tpr_balanced, 'black', label = 'Balanced Class Weights: AUC = %0.2f' % roc_auc_balanced)\n",
    "plt.scatter(fpr_50_balanced, tpr_50_balanced, s=100, marker='o', c='black', label = 'Balanced Class Weights with 0.5 threshold')\n",
    "\n",
    "plt.plot(lda_fpr, lda_tpr, 'g', label = 'LDA: AUC = %0.2f' % lda_roc_auc)\n",
    "plt.scatter(lda_fpr_50, lda_tpr_50, s=100, marker='o', c='g', label = 'LDA with 0.5 threshold')\n",
    "plt.plot(lda_fpr_balanced, lda_tpr_balanced, 'r', label = 'LDA SMOTE: AUC = %0.2f' % lda_roc_auc_balanced)\n",
    "plt.scatter(lda_fpr_50_balanced, lda_tpr_50_balanced, s=100, marker='o', c='r', label = 'LDA SMOTE with 0.5 threshold')\n",
    "\n",
    "plt.plot(qda_fpr, qda_tpr, 'cyan', label = 'QDA: AUC = %0.2f' % qda_roc_auc)\n",
    "plt.scatter(qda_fpr_50, qda_tpr_50, s=100, marker='o', c='cyan', label = 'QDA with 0.5 threshold')\n",
    "plt.plot(qda_fpr_balanced, qda_tpr_balanced, 'pink', label = 'QDA SMOTE: AUC = %0.2f' % qda_roc_auc_balanced)\n",
    "plt.scatter(qda_fpr_50_balanced, qda_tpr_50_balanced, s=100, marker='o', c='pink', label = 'QDA SMOTE with 0.5 threshold')\n",
    "\n",
    "\n",
    "plt.legend(loc = 'lower right')\n",
    "plt.plot([0, 1], [0, 1],'r--')\n",
    "plt.xlim([0, 1])\n",
    "plt.ylim([0, 1])\n",
    "plt.ylabel('True Positive Rate')\n",
    "plt.xlabel('False Positive Rate')\n",
    "plt.show()"
   ]
  },
  {
   "cell_type": "markdown",
   "metadata": {},
   "source": [
    "Which model is best for classifying the images as fire or no_fire?"
   ]
  },
  {
   "cell_type": "markdown",
   "metadata": {},
   "source": [
    "<div class=\"alert alert-block alert-success\">\n",
    "I would suggest using QDA (with SMOTE) because it has the highest AUC score while also having high precision. We want to balance the weight of the classes for this particular data that we are working with because we do not want our classifier to learn to predict no wildfire with great specificity but exhibit subpar performance for the prediction of wildfires. After all, the severity of this prediction task is such that we want the highest possible precision. QDA with SMOTE gives relatively advantageous results because the decision boundaries for this dataset are moderately non-linear, it seems.\n",
    "</div>"
   ]
  },
  {
   "cell_type": "markdown",
   "metadata": {},
   "source": [
    "How might one be able to improve the classification of fire/no_fire observations? Are their other predictive features that could be useful? The process of selecting appropriate features is called feature engineering, and is one of the most important parts of data science. Are their other models that may be better (the journal discusses some alternative models)?"
   ]
  },
  {
   "cell_type": "markdown",
   "metadata": {},
   "source": [
    "<div class=\"alert alert-block alert-success\">\n",
    "I agree with the future work proposed in the paper. Weather data should be included because \n",
    "\"weather plays a major role in the occurrence, growth, spread and the extinction of wildfires.\"\n",
    "The dataset could be augmented with 3 additional features: air temperature, wind, and soil moisture. \n",
    "When air temperature is high, the risk of wildfires is high. When wind speeds are fast, fires become more dangerous and unpredictable. And finally,\n",
    "when soil moisture is low, the risk of wildfires is high. These three features may be able to help train these models to have better classification performance.</div>"
   ]
  },
  {
   "cell_type": "code",
   "execution_count": null,
   "metadata": {},
   "outputs": [],
   "source": []
  }
 ],
 "metadata": {
  "kernelspec": {
   "display_name": "Python 3",
   "language": "python",
   "name": "python3"
  },
  "language_info": {
   "codemirror_mode": {
    "name": "ipython",
    "version": 3
   },
   "file_extension": ".py",
   "mimetype": "text/x-python",
   "name": "python",
   "nbconvert_exporter": "python",
   "pygments_lexer": "ipython3",
   "version": "3.6.6"
  },
  "toc": {
   "base_numbering": 1,
   "nav_menu": {},
   "number_sections": false,
   "sideBar": true,
   "skip_h1_title": false,
   "title_cell": "Table of Contents",
   "title_sidebar": "Contents",
   "toc_cell": false,
   "toc_position": {},
   "toc_section_display": true,
   "toc_window_display": false
  },
  "varInspector": {
   "cols": {
    "lenName": 16,
    "lenType": 16,
    "lenVar": 40
   },
   "kernels_config": {
    "python": {
     "delete_cmd_postfix": "",
     "delete_cmd_prefix": "del ",
     "library": "var_list.py",
     "varRefreshCmd": "print(var_dic_list())"
    },
    "r": {
     "delete_cmd_postfix": ") ",
     "delete_cmd_prefix": "rm(",
     "library": "var_list.r",
     "varRefreshCmd": "cat(var_dic_list()) "
    }
   },
   "types_to_exclude": [
    "module",
    "function",
    "builtin_function_or_method",
    "instance",
    "_Feature"
   ],
   "window_display": false
  }
 },
 "nbformat": 4,
 "nbformat_minor": 4
}
